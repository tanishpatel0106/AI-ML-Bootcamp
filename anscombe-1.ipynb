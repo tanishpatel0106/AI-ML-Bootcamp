{
 "cells": [
  {
   "cell_type": "markdown",
   "id": "bc88d3fc",
   "metadata": {},
   "source": [
    "## Mandatory Imports"
   ]
  },
  {
   "cell_type": "code",
   "execution_count": 1,
   "id": "bd7d5cec",
   "metadata": {},
   "outputs": [],
   "source": [
    "import seaborn as sns\n",
    "import pandas as pd\n",
    "import matplotlib.pyplot as plt\n",
    "from sklearn.linear_model import LinearRegression\n",
    "import statsmodels.api as sm\n",
    "import numpy as np"
   ]
  },
  {
   "cell_type": "markdown",
   "id": "7591592e",
   "metadata": {},
   "source": [
    "## 📊 What is the Anscombe Dataset?\n",
    "\n",
    "The **Anscombe's Quartet** is a collection of four datasets (I–IV) each containing 11 pairs of `(x, y)` values. Introduced by the statistician **Francis Anscombe** in 1973, it serves as a powerful reminder that:\n",
    "\n",
    "> **\"Summary statistics alone do not tell the full story of your data.\"**\n",
    "\n",
    "All four datasets have:\n",
    "- Nearly identical means and variances for both `x` and `y`\n",
    "- The same linear regression line (`y = 3 + 0.5x`)\n",
    "- The same coefficient of determination (R² ≈ 0.67)\n",
    "- The same correlation coefficient (r ≈ 0.82)\n",
    "\n",
    "Despite having identical statistical summaries, when plotted, the datasets look dramatically different. This illustrates the importance of **visualizing data** before performing statistical analysis or machine learning.\n",
    "\n",
    "In this notebook, we start with **Dataset I**, which is a textbook example of linear correlation."
   ]
  },
  {
   "cell_type": "code",
   "execution_count": 2,
   "id": "5c12dfe1",
   "metadata": {},
   "outputs": [
    {
     "data": {
      "application/vnd.microsoft.datawrangler.viewer.v0+json": {
       "columns": [
        {
         "name": "index",
         "rawType": "int64",
         "type": "integer"
        },
        {
         "name": "dataset",
         "rawType": "object",
         "type": "string"
        },
        {
         "name": "x",
         "rawType": "float64",
         "type": "float"
        },
        {
         "name": "y",
         "rawType": "float64",
         "type": "float"
        }
       ],
       "ref": "c069c4b6-9b08-47f0-abc1-47e90e568db6",
       "rows": [
        [
         "0",
         "I",
         "10.0",
         "8.04"
        ],
        [
         "1",
         "I",
         "8.0",
         "6.95"
        ],
        [
         "2",
         "I",
         "13.0",
         "7.58"
        ],
        [
         "3",
         "I",
         "9.0",
         "8.81"
        ],
        [
         "4",
         "I",
         "11.0",
         "8.33"
        ]
       ],
       "shape": {
        "columns": 3,
        "rows": 5
       }
      },
      "text/html": [
       "<div>\n",
       "<style scoped>\n",
       "    .dataframe tbody tr th:only-of-type {\n",
       "        vertical-align: middle;\n",
       "    }\n",
       "\n",
       "    .dataframe tbody tr th {\n",
       "        vertical-align: top;\n",
       "    }\n",
       "\n",
       "    .dataframe thead th {\n",
       "        text-align: right;\n",
       "    }\n",
       "</style>\n",
       "<table border=\"1\" class=\"dataframe\">\n",
       "  <thead>\n",
       "    <tr style=\"text-align: right;\">\n",
       "      <th></th>\n",
       "      <th>dataset</th>\n",
       "      <th>x</th>\n",
       "      <th>y</th>\n",
       "    </tr>\n",
       "  </thead>\n",
       "  <tbody>\n",
       "    <tr>\n",
       "      <th>0</th>\n",
       "      <td>I</td>\n",
       "      <td>10.0</td>\n",
       "      <td>8.04</td>\n",
       "    </tr>\n",
       "    <tr>\n",
       "      <th>1</th>\n",
       "      <td>I</td>\n",
       "      <td>8.0</td>\n",
       "      <td>6.95</td>\n",
       "    </tr>\n",
       "    <tr>\n",
       "      <th>2</th>\n",
       "      <td>I</td>\n",
       "      <td>13.0</td>\n",
       "      <td>7.58</td>\n",
       "    </tr>\n",
       "    <tr>\n",
       "      <th>3</th>\n",
       "      <td>I</td>\n",
       "      <td>9.0</td>\n",
       "      <td>8.81</td>\n",
       "    </tr>\n",
       "    <tr>\n",
       "      <th>4</th>\n",
       "      <td>I</td>\n",
       "      <td>11.0</td>\n",
       "      <td>8.33</td>\n",
       "    </tr>\n",
       "  </tbody>\n",
       "</table>\n",
       "</div>"
      ],
      "text/plain": [
       "  dataset     x     y\n",
       "0       I  10.0  8.04\n",
       "1       I   8.0  6.95\n",
       "2       I  13.0  7.58\n",
       "3       I   9.0  8.81\n",
       "4       I  11.0  8.33"
      ]
     },
     "execution_count": 2,
     "metadata": {},
     "output_type": "execute_result"
    }
   ],
   "source": [
    "df = sns.load_dataset(\"anscombe\")\n",
    "df1 = df[df[\"dataset\"] == \"I\"]\n",
    "df1.head()"
   ]
  },
  {
   "cell_type": "markdown",
   "id": "ad46166d",
   "metadata": {},
   "source": [
    "## 📈 What Are Data Statistics? Why Are They Important?\n",
    "\n",
    "**Descriptive statistics** are numerical values that summarize and describe the features of a dataset. They provide an initial understanding of the data's **central tendency**, **variability**, and **distribution**.\n",
    "\n",
    "### 📌 Key Data Statistics:\n",
    "\n",
    "- **Mean (Average)**: Sum of all values divided by count. Gives a measure of central tendency.\n",
    "- **Variance**: Measures the dispersion of the data around the mean. Higher variance = more spread out.\n",
    "- **Standard Deviation (σ)**: Square root of variance; it has the same units as the data and describes spread.\n",
    "- **Min/Max**: Show the data range.\n",
    "- **Percentiles (25%, 50%, 75%)**: Show how data is distributed around the median.\n",
    "\n",
    "### 💡 Why Are They Important?\n",
    "\n",
    "- They help us **understand the scale and behavior** of the dataset.\n",
    "- They are used to **detect anomalies or outliers**.\n",
    "- They inform us whether certain statistical or machine learning methods are appropriate.\n",
    "- They are critical for **data preprocessing** and **feature engineering**.\n",
    "\n",
    "However, as shown by Anscombe’s Quartet, relying only on these statistics—**without visualization**—can lead to incorrect conclusions."
   ]
  },
  {
   "cell_type": "markdown",
   "id": "335d2866",
   "metadata": {},
   "source": [
    "## 🔗 What is Correlation? Mathematical Concept and Usage\n",
    "\n",
    "**Correlation** is a statistical measure that describes the degree to which two variables move in relation to each other.\n",
    "\n",
    "### 📌 Pearson Correlation Coefficient (r)\n",
    "\n",
    "Mathematically:\n",
    "$r = \\frac{\\sum (x_i - \\bar{x})(y_i - \\bar{y})}{\\sqrt{\\sum (x_i - \\bar{x})^2} \\sqrt{\\sum (y_i - \\bar{y})^2}}$\n",
    "\n",
    "Where:\n",
    "- $x_i, y_i$: individual data points\n",
    "- $\\bar{x}, \\bar{y}$: mean of x and y respectively\n",
    "\n",
    "### 🔢 Interpretation:\n",
    "\n",
    "| r Value     | Meaning                      |\n",
    "|-------------|------------------------------|\n",
    "| +1          | Perfect positive correlation |\n",
    "| 0           | No linear correlation        |\n",
    "| -1          | Perfect negative correlation |\n",
    "\n",
    "### 🧠 Usage:\n",
    "\n",
    "- Assess **strength and direction** of linear relationships.\n",
    "- Identify **multicollinearity** in multiple regression.\n",
    "- Aid in **feature selection** in machine learning.\n",
    "\n",
    "⚠️ **Note**: Correlation **does not imply causation**. Also, it only captures **linear relationships**, not curved or non-linear ones."
   ]
  },
  {
   "cell_type": "code",
   "execution_count": null,
   "id": "61c62c31",
   "metadata": {},
   "outputs": [],
   "source": [
    "print(\"Data Types:\\n\", df1.dtypes)\n",
    "print(\"\\nBasic Statistics:\\n\", df1.describe())\n",
    "print(\"\\nCorrelation:\\n\", df1['x'].corr(df1['y']))"
   ]
  },
  {
   "cell_type": "code",
   "execution_count": 3,
   "id": "4b24e570",
   "metadata": {},
   "outputs": [
    {
     "data": {
      "image/png": "[encoded data removed]",
      "text/plain": [
       "<Figure size 600x500 with 1 Axes>"
      ]
     },
     "metadata": {},
     "output_type": "display_data"
    }
   ],
   "source": [
    "plt.figure(figsize=(6,5))\n",
    "sns.scatterplot(x=\"x\", y=\"y\", data=df1)\n",
    "plt.title(\"Dataset I - Scatter Plot\")\n",
    "plt.grid(True)\n",
    "plt.show()"
   ]
  },
  {
   "cell_type": "markdown",
   "id": "365a127f",
   "metadata": {},
   "source": [
    "## 📐 What is Linear Regression? What is the Logic Behind It?\n",
    "\n",
    "**Linear Regression** is a fundamental algorithm in statistics and machine learning that models the relationship between a **dependent variable `y`** and one or more **independent variables `x`** by fitting a linear equation:\n",
    "\n",
    "\\[\n",
    "y = \\beta_0 + \\beta_1 x + \\epsilon\n",
    "\\]\n",
    "\n",
    "Where:\n",
    "- \\( \\beta_0 \\): Intercept (value of y when x = 0)\n",
    "- \\( \\beta_1 \\): Slope (change in y for one unit change in x)\n",
    "- \\( \\epsilon \\): Error term (residual)\n",
    "\n",
    "### 🔍 Logic:\n",
    "\n",
    "- It tries to find the **best-fitting straight line** through the data points.\n",
    "- It minimizes the **Sum of Squared Errors (SSE)** using the **Least Squares Method**:\n",
    "  \n",
    "\\[\n",
    "\\text{SSE} = \\sum_{i=1}^n (y_i - \\hat{y}_i)^2\n",
    "\\]\n",
    "\n",
    "- The model is trained to choose \\( \\beta_0 \\) and \\( \\beta_1 \\) that **minimize SSE**.\n",
    "\n",
    "### 💡 Applications:\n",
    "- Predicting future values (forecasting)\n",
    "- Understanding relationships between variables\n",
    "- Feature importance ranking in ML"
   ]
  },
  {
   "cell_type": "code",
   "execution_count": 4,
   "id": "f95a8606",
   "metadata": {},
   "outputs": [
    {
     "name": "stdout",
     "output_type": "stream",
     "text": [
      "Intercept: 3.0000909090909103\n",
      "Slope: 0.5000909090909091\n",
      "R² Score: 0.666542459508775\n"
     ]
    }
   ],
   "source": [
    "X = df1[['x']]\n",
    "y = df1['y']\n",
    "\n",
    "model = LinearRegression()\n",
    "model.fit(X, y)\n",
    "\n",
    "print(\"Intercept:\", model.intercept_)\n",
    "print(\"Slope:\", model.coef_[0])\n",
    "print(\"R² Score:\", model.score(X, y))"
   ]
  },
  {
   "cell_type": "markdown",
   "id": "4e8ae62c",
   "metadata": {},
   "source": [
    "## 📏 What Does the Linear Regression Line Signify?\n",
    "\n",
    "The **regression line** is the predicted relationship between input and output variables. It shows how the target variable `y` is expected to change as input `x` changes.\n",
    "\n",
    "$\\text{Regression line: } \\hat{y} = \\beta_0 + \\beta_1 x$\n",
    "\n",
    "### ✅ Interpretation:\n",
    "- The **slope (β₁)** shows how much y increases/decreases with x.\n",
    "- The **intercept (β₀)** is the predicted y when x = 0.\n",
    "\n",
    "### 🤔 Common FAQs:\n",
    "\n",
    "- **Does a good fit mean high accuracy?**  \n",
    "  Not always. You should always check residuals and R².\n",
    "\n",
    "- **Can it fit curved data?**  \n",
    "  No—linear regression assumes linearity. Curved patterns should use polynomial or other models.\n",
    "\n",
    "- **Does the line pass through all points?**  \n",
    "  No. It minimizes squared vertical errors—not perfect fit.\n",
    "\n",
    "- **Is it affected by outliers?**  \n",
    "  Yes. One strong outlier can drastically change the slope.\n",
    "\n",
    "- **Does a higher R² mean better model?**  \n",
    "  Not always. Overfitting can increase R² but reduce generalizability."
   ]
  },
  {
   "cell_type": "code",
   "execution_count": 5,
   "id": "4703376b",
   "metadata": {},
   "outputs": [
    {
     "data": {
      "image/png": "[encoded data removed]",
      "text/plain": [
       "<Figure size 600x500 with 1 Axes>"
      ]
     },
     "metadata": {},
     "output_type": "display_data"
    }
   ],
   "source": [
    "plt.figure(figsize=(6,5))\n",
    "sns.scatterplot(x=\"x\", y=\"y\", data=df1, label=\"Data Points\")\n",
    "sns.lineplot(x=df1[\"x\"], y=model.predict(X), color='red', label=\"Regression Line\")\n",
    "plt.title(\"Dataset I - Linear Regression Fit\")\n",
    "plt.legend()\n",
    "plt.grid(True)\n",
    "plt.show()"
   ]
  },
  {
   "cell_type": "markdown",
   "id": "9c330b3c",
   "metadata": {},
   "source": [
    "## 📉 What Does the Residual Plot Mean?\n",
    "\n",
    "**Residuals** are the differences between the **actual values** and the **predicted values** from your regression model:\n",
    "\n",
    "$\\text{Residual} = y_{\\text{actual}} - y_{\\text{predicted}}$\n",
    "\n",
    "A **residual plot** shows residuals on the vertical axis and the corresponding `x` values on the horizontal axis.\n",
    "\n",
    "### 🔍 Why Is It Important?\n",
    "\n",
    "- Helps **diagnose model assumptions**:\n",
    "  - Residuals should be **randomly scattered** (no pattern).\n",
    "  - If there's a curve or funnel shape, the **linearity or homoscedasticity** assumptions may be violated.\n",
    "  \n",
    "- Detect **outliers and influential points**.\n",
    "\n",
    "### ✅ Ideal Residual Plot:\n",
    "\n",
    "- Randomly scattered points around zero.\n",
    "- No visible pattern or structure."
   ]
  },
  {
   "cell_type": "code",
   "execution_count": 6,
   "id": "5a1a7dde",
   "metadata": {},
   "outputs": [
    {
     "data": {
      "image/png": "[encoded data removed]",
      "text/plain": [
       "<Figure size 600x500 with 1 Axes>"
      ]
     },
     "metadata": {},
     "output_type": "display_data"
    }
   ],
   "source": [
    "residuals = y - model.predict(X)\n",
    "\n",
    "plt.figure(figsize=(6,5))\n",
    "sns.residplot(x=df1[\"x\"], y=df1[\"y\"], lowess=True, color=\"purple\")\n",
    "plt.title(\"Dataset I - Residual Plot\")\n",
    "plt.xlabel(\"x\")\n",
    "plt.ylabel(\"Residuals\")\n",
    "plt.grid(True)\n",
    "plt.show()"
   ]
  },
  {
   "cell_type": "markdown",
   "id": "2dd79087",
   "metadata": {},
   "source": [
    "## 📊 What Does the OLS Summary Mean? (Bonus Topic)\n",
    "\n",
    "The **Ordinary Least Squares (OLS)** summary from `statsmodels` provides a detailed statistical output of the linear regression model.\n",
    "\n",
    "### 🧾 Key Components:\n",
    "\n",
    "- **coef**: Estimated coefficients \\( \\beta_0, \\beta_1 \\)\n",
    "- **std err**: Standard error of the coefficient estimate\n",
    "- **t**: t-statistic to test significance of coefficients\n",
    "- **P>|t|**: p-value; checks if coefficients are statistically significant (< 0.05 means significant)\n",
    "- **[0.025, 0.975]**: 95% confidence interval of coefficients\n",
    "\n",
    "### 📈 Goodness-of-Fit Metrics:\n",
    "\n",
    "- **R-squared**: Proportion of variance in y explained by x.\n",
    "- **Adj. R-squared**: Adjusted for number of predictors (useful for multiple regression).\n",
    "- **F-statistic**: Tests if model explains a significant portion of variance.\n",
    "- **Prob (F-statistic)**: p-value for the overall model fit.\n",
    "- **Durbin-Watson**: Tests for autocorrelation in residuals.\n",
    "- **Omnibus / Jarque-Bera**: Tests for normality in residuals.\n",
    "\n",
    "### ✅ Summary:\n",
    "\n",
    "OLS gives both **interpretability and diagnostics**, which help you judge **how trustworthy and robust** the model is.\n"
   ]
  },
  {
   "cell_type": "code",
   "execution_count": 7,
   "id": "351a645c",
   "metadata": {},
   "outputs": [
    {
     "name": "stdout",
     "output_type": "stream",
     "text": [
      "                            OLS Regression Results                            \n",
      "==============================================================================\n",
      "Dep. Variable:                      y   R-squared:                       0.667\n",
      "Model:                            OLS   Adj. R-squared:                  0.629\n",
      "Method:                 Least Squares   F-statistic:                     17.99\n",
      "Date:                Sat, 21 Jun 2025   Prob (F-statistic):            0.00217\n",
      "Time:                        18:59:11   Log-Likelihood:                -16.841\n",
      "No. Observations:                  11   AIC:                             37.68\n",
      "Df Residuals:                       9   BIC:                             38.48\n",
      "Df Model:                           1                                         \n",
      "Covariance Type:            nonrobust                                         \n",
      "==============================================================================\n",
      "                 coef    std err          t      P>|t|      [0.025      0.975]\n",
      "------------------------------------------------------------------------------\n",
      "const          3.0001      1.125      2.667      0.026       0.456       5.544\n",
      "x              0.5001      0.118      4.241      0.002       0.233       0.767\n",
      "==============================================================================\n",
      "Omnibus:                        0.082   Durbin-Watson:                   3.212\n",
      "Prob(Omnibus):                  0.960   Jarque-Bera (JB):                0.289\n",
      "Skew:                          -0.122   Prob(JB):                        0.865\n",
      "Kurtosis:                       2.244   Cond. No.                         29.1\n",
      "==============================================================================\n",
      "\n",
      "Notes:\n",
      "[1] Standard Errors assume that the covariance matrix of the errors is correctly specified.\n"
     ]
    },
    {
     "name": "stderr",
     "output_type": "stream",
     "text": [
      "c:\\Users\\Paperchase\\anaconda3\\Lib\\site-packages\\scipy\\stats\\_stats_py.py:1806: UserWarning: kurtosistest only valid for n>=20 ... continuing anyway, n=11\n",
      "  warnings.warn(\"kurtosistest only valid for n>=20 ... continuing \"\n"
     ]
    }
   ],
   "source": [
    "X_sm = sm.add_constant(X)  # adds intercept\n",
    "ols_model = sm.OLS(y, X_sm).fit()\n",
    "print(ols_model.summary())"
   ]
  }
 ],
 "metadata": {
  "kernelspec": {
   "display_name": "base",
   "language": "python",
   "name": "python3"
  },
  "language_info": {
   "codemirror_mode": {
    "name": "ipython",
    "version": 3
   },
   "file_extension": ".py",
   "mimetype": "text/x-python",
   "name": "python",
   "nbconvert_exporter": "python",
   "pygments_lexer": "ipython3",
   "version": "3.11.7"
  }
 },
 "nbformat": 4,
 "nbformat_minor": 5
}
